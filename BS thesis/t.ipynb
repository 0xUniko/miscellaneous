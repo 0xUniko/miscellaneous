{
 "cells": [
  {
   "cell_type": "code",
   "execution_count": 1,
   "metadata": {
    "collapsed": true
   },
   "outputs": [
    {
     "name": "stdout",
     "output_type": "stream",
     "text": [
      "Using matplotlib backend: TkAgg\n"
     ]
    }
   ],
   "source": [
    "%matplotlib\n",
    "import numpy as np\n",
    "from scipy.optimize import root, brentq\n",
    "import matplotlib.pyplot as plt\n",
    "from mpl_toolkits.mplot3d import Axes3D, axes3d\n",
    "import math"
   ]
  },
  {
   "cell_type": "code",
   "execution_count": 24,
   "metadata": {},
   "outputs": [],
   "source": [
    "w = 0.4\n",
    "alpha = 0.3\n",
    "sigma = 0.4\n",
    "mu = 0.2\n",
    "r = 0.05\n",
    "theta = (mu - r)/sigma\n",
    "b = 0.3\n",
    "T = 1\n",
    "x0 = 1\n",
    "def theta_tilda(x):\n",
    "    if x >= x0:\n",
    "        return a * (x - x0)\n",
    "    if (1 - w) * x0 <= x < x0:\n",
    "        return x - x0\n",
    "    if x < (1 - w) * x0:\n",
    "        return -w * x0\n",
    "a = w + alpha * (1 - w)\n",
    "z0 = theta_tilda(x0 / math.exp(-r - theta ** 2))"
   ]
  },
  {
   "cell_type": "code",
   "execution_count": 3,
   "metadata": {},
   "outputs": [],
   "source": [
    "def inverse_xi(x):\n",
    "    return (- (r + theta ** 2 / 2) * T - math.log(x)) / theta / math.sqrt(T)\n",
    "\n",
    "\n",
    "def zero_moment(downbdd, upbdd):\n",
    "    if upbdd == 'infty':\n",
    "        if downbdd > 0:\n",
    "            return (1 + math.erf(inverse_xi(downbdd) / math.sqrt(2))) / 2\n",
    "        else:\n",
    "            return 1\n",
    "    elif downbdd < upbdd:\n",
    "        if downbdd > 0:\n",
    "            return (math.erf(inverse_xi(downbdd) / math.sqrt(2)) - math.erf(inverse_xi(upbdd) / math.sqrt(2))) / 2\n",
    "        elif upbdd > 0:\n",
    "            return (1 - math.erf(inverse_xi(upbdd) / math.sqrt(2))) / 2\n",
    "        else:\n",
    "            return 0\n",
    "    else:\n",
    "        return 0\n",
    "\n",
    "\n",
    "def first_moment(downbdd, upbdd):\n",
    "    if upbdd == 'infty':\n",
    "        if downbdd > 0:\n",
    "            return math.exp(-r * T) * \\\n",
    "                   (1 + math.erf((inverse_xi(downbdd) + math.sqrt(T) * theta) / math.sqrt(2))) / 2\n",
    "        else:\n",
    "            return math.exp(-r * T)\n",
    "    if downbdd < upbdd:\n",
    "        if downbdd > 0:\n",
    "            return math.exp(-r * T) * (math.erf((inverse_xi(downbdd) + math.sqrt(T) * theta) / math.sqrt(2)) -\n",
    "                    math.erf((inverse_xi(upbdd) + math.sqrt(T) * theta) / math.sqrt(2))) / 2\n",
    "        elif upbdd > 0:\n",
    "            return math.exp(-r * T) * \\\n",
    "                   (1 - math.erf((inverse_xi(upbdd) + math.sqrt(T) * theta) / math.sqrt(2))) / 2\n",
    "        else:\n",
    "            return 0\n",
    "    else:\n",
    "        return 0\n",
    "\n",
    "\n",
    "def second_moment(downbdd, upbdd):\n",
    "    if upbdd == 'infty':\n",
    "        if downbdd > 0:\n",
    "            return math.exp((- 2 * r + theta ** 2) * T) * \\\n",
    "                   (1 + math.erf((inverse_xi(downbdd) + 2 * math.sqrt(T) * theta) / math.sqrt(2))) / 2\n",
    "        else:\n",
    "            return math.exp((- 2 * r + theta ** 2) * T)\n",
    "    if downbdd < upbdd:\n",
    "        if downbdd > 0:\n",
    "            return math.exp((- 2 * r + theta ** 2) * T) * (math.erf((inverse_xi(downbdd) + 2 * math.sqrt(T) * theta)\n",
    "                    / math.sqrt(2)) - math.erf((inverse_xi(upbdd) + 2 * math.sqrt(T) * theta) / math.sqrt(2))) / 2\n",
    "        elif upbdd > 0:\n",
    "            return math.exp((- 2 * r + theta ** 2) * T) * \\\n",
    "                   (1 - math.erf((inverse_xi(upbdd) + 2 * math.sqrt(T) * theta) / math.sqrt(2))) / 2\n",
    "        else:\n",
    "            return 0\n",
    "    else:\n",
    "        return 0"
   ]
  },
  {
   "cell_type": "code",
   "execution_count": 4,
   "metadata": {},
   "outputs": [],
   "source": [
    "def subsituation(lda, muu):\n",
    "    if muu == 0:\n",
    "        if lda / 2 / (w + alpha * (1 - w)) > 0:\n",
    "            if - lda ** 2 / 4 < w ** 2 * x0 ** 2 + lda * w * x0:\n",
    "                return [['five', 0, 'infty']]\n",
    "            else:\n",
    "                return [['two', 0, 'infty']]\n",
    "        else:\n",
    "            if 0 < w ** 2 * x0 ** 2 + lda * w * x0:\n",
    "                return [['four', 0, 'infty']]\n",
    "            else:\n",
    "                return [['two', 0, 'infty']]\n",
    "    else:\n",
    "        cutting1 = - lda * (w + alpha * (1 - w)) / muu\n",
    "        cutting2 = - 2 * lda * (w + alpha * (1 - w)) / (muu * (1 + w + alpha * (1 - w)))\n",
    "        cutting5_b = (w ** 2 * x0 ** 2 + lda * w * x0) / muu / x0 / (b - 1)\n",
    "        cutting5_1_w = - (w * x0 ** 2 + lda * x0) / muu / x0\n",
    "        cutting6 = (- 2 * w * x0 - lda) / muu\n",
    "        cutting7 = - lda / muu\n",
    "        delta3_b = 2 * lda * muu * (w + alpha * (1 - w)) ** 2 + 2 * muu * x0 - 4 * muu * b * x0 * \\\n",
    "                    (w + alpha * (1 - w)) ** 2 - 4 * muu ** 2 * (2 * lda ** 2 * (w + alpha * (1 - w)) ** 2 +\n",
    "                    4 * (w + alpha * (1 - w)) ** 2 * (w ** 2 * x0 ** 2 + lda * w * x0))\n",
    "        delta3_1_w = 2 * lda * muu * (w + alpha * (1 - w)) ** 2 + 2 * muu * x0 - 4 * muu * (1 - w) * x0 * \\\n",
    "                    (w + alpha * (1 - w)) ** 2 - 4 * muu ** 2 * (2 * lda ** 2 * (w + alpha * (1 - w)) ** 2 +\n",
    "                    4 * (w + alpha * (1 - w)) ** 2 * (w ** 2 * x0 ** 2 + lda * w * x0))\n",
    "        delta4_b = (2 * muu * lda - muu * b * x0 + 4 * muu * x0) ** 2 - 4 * muu ** 2 * \\\n",
    "                   (lda ** 2 + 4 * (w ** 2 * x0 ** 2 + lda * w * x0))\n",
    "        delta4_1_w = (2 * muu * lda - muu * (1 - w) * x0 + 4 * muu * x0) ** 2 - 4 * muu ** 2 * \\\n",
    "                    (lda ** 2 + 4 * (w ** 2 * x0 ** 2 + lda * w * x0))\n",
    "        if muu > 0:\n",
    "            if delta3_1_w <= 0:\n",
    "                e111 = [['five', cutting1, cutting6]]\n",
    "            else:\n",
    "                cutting3_1_w_low = (-(2 * muu * lda * (w + alpha * (1 - w)) + 2 * muu * x0 - 4 * muu * b * x0 *\n",
    "                                      (w + alpha * (1 - w)) ** 2) - math.sqrt(delta3_1_w)) / 2 / muu ** 2\n",
    "                cutting3_1_w_high = (-(2 * muu * lda * (w + alpha * (1 - w)) + 2 * muu * x0 - 4 * muu * b * x0 *\n",
    "                                       (w + alpha * (1 - w)) ** 2) + math.sqrt(delta3_1_w)) / 2 / muu ** 2\n",
    "                e111 = [['five', cutting1, min(cutting3_1_w_low, cutting6)], ['five', max(cutting1, cutting3_1_w_high), cutting6],\n",
    "                        ['two', max(cutting1, cutting3_1_w_low), min(cutting3_1_w_high, cutting6)]]\n",
    "            e112 = [['five', max(cutting1, cutting2, cutting6), cutting7],\n",
    "                    ['three', max(cutting1, cutting6), min(cutting2, cutting7)]]\n",
    "            e113 = [['five', max(cutting1, cutting7), 'infty']]\n",
    "            e211 = [['two', 0, min(cutting1, cutting6)]]\n",
    "            e212 = [['three', cutting6, min(cutting1, cutting7)]]\n",
    "            e213 = [['four', cutting7, cutting1]]\n",
    "            return e111 + e112 + e113 + e211 + e212 + e213\n",
    "        else:\n",
    "            if delta3_b <= 0:\n",
    "                e121 = [['five', cutting6, cutting1]]\n",
    "                e122 = [['five', max(cutting2, cutting7), min(cutting1, cutting6)],\n",
    "                        ['three', cutting7, min(cutting1, cutting2, cutting6)]]\n",
    "                e123 = [['five', 0, min(cutting1, cutting7)]]\n",
    "            else:\n",
    "                cutting3_b_low = (-(2 * muu * lda * (w + alpha * (1 - w)) + 2 * muu * x0 - 4 * muu * b * x0 *\n",
    "                                      (w + alpha * (1 - w)) ** 2) - math.sqrt(delta3_b)) / 2 / muu ** 2\n",
    "                cutting3_b_high = (-(2 * muu * lda * (w + alpha * (1 - w)) + 2 * muu * x0 - 4 * muu * b * x0 *\n",
    "                                    (w + alpha * (1 - w)) ** 2) + math.sqrt(delta3_b)) / 2 / muu ** 2\n",
    "                e121 = [['five', cutting6, min(cutting1, cutting3_b_low)], ['five', max(cutting3_b_high, cutting6), cutting1],\n",
    "                        ['one', max(cutting6, cutting3_b_low), min(cutting1, cutting3_b_high)]]\n",
    "                if delta4_b <= 0:\n",
    "                    e122 = [['five', max(cutting2, cutting7), min(cutting1, cutting6)],\n",
    "                            ['three', cutting7, min(cutting1, cutting2, cutting6)]]\n",
    "                else:\n",
    "                    cutting4_b_low = (-(2 * lda * muu - 4 * muu * b * x0 + 4 * muu * x0) - math.sqrt(delta4_b)) / 2 / muu ** 2\n",
    "                    cutting4_b_high = (-(2 * lda * muu - 4 * muu * b * x0 + 4 * muu * x0) - math.sqrt(delta4_b)) / 2 / muu ** 2\n",
    "                    e122 = [['five', max(cutting2, cutting7), min(cutting1, cutting3_b_low, cutting6)],\n",
    "                            ['three', cutting7, min(cutting1, cutting2, cutting6, cutting4_b_low)],\n",
    "                            ['one', max(cutting3_b_low, cutting4_b_low, cutting7),\n",
    "                             max(cutting1, cutting3_b_high, cutting4_b_high, cutting6)]]\n",
    "                e123 = [['five', 0, min(cutting1, cutting3_b_low, cutting7)], ['five', cutting3_b_high, min(cutting1, cutting7)],\n",
    "                        ['one', cutting3_b_low, min(cutting1, cutting3_b_high, cutting7)]]\n",
    "            e221 = [['four', cutting5_b, cutting1]]\n",
    "            e222 = [['one', 0, min(cutting1, cutting5_b)]]\n",
    "            return e121 + e122 + e123 + e221 + e222"
   ]
  },
  {
   "cell_type": "code",
   "execution_count": 5,
   "metadata": {},
   "outputs": [],
   "source": [
    "def expectation(lda, muu):\n",
    "    def five(downbdd, upbdd):\n",
    "        return muu / (2 * (w + alpha * (1 - w))) * first_moment(downbdd, upbdd) + lda / 2 * zero_moment(downbdd, upbdd)\n",
    "\n",
    "    def four(downbdd, upbdd):\n",
    "        return 0\n",
    "\n",
    "    def three(downbdd, upbdd):\n",
    "        return muu / 2 * first_moment(downbdd, upbdd) + lda / 2 * zero_moment(downbdd, upbdd)\n",
    "\n",
    "    def two(downbdd, upbdd):\n",
    "        return - w * x0 * zero_moment(downbdd, upbdd)\n",
    "\n",
    "    def one(downbdd, upbdd):\n",
    "        return - w * x0 * zero_moment(downbdd, upbdd)\n",
    "\n",
    "    sub = subsituation(lda, muu)\n",
    "    expt = 0\n",
    "    for item in sub:\n",
    "        expt += eval(item[0])(item[1], item[2])\n",
    "    return expt\n",
    "\n",
    "\n",
    "def expectation2(lda, muu):\n",
    "    def five(downbdd, upbdd):\n",
    "        return (lda / (2 * (w + alpha * (1 - w))) + x0) * first_moment(downbdd, upbdd) + \\\n",
    "               muu / (2 * (w + alpha * (1 - w)) ** 2) * second_moment(downbdd, upbdd)\n",
    "\n",
    "    def four(downbdd, upbdd):\n",
    "        return x0 * first_moment(downbdd, upbdd)\n",
    "\n",
    "    def three(downbdd, upbdd):\n",
    "        return (lda / 2 + x0) * first_moment(downbdd, upbdd) + muu / 2 * second_moment(downbdd, upbdd)\n",
    "\n",
    "    def two(downbdd, upbdd):\n",
    "        return (1 - w) * x0 * zero_moment(downbdd, upbdd)\n",
    "\n",
    "    def one(downbdd, upbdd):\n",
    "        return b * x0 * zero_moment(downbdd, upbdd)\n",
    "\n",
    "    sub = subsituation(lda, muu)\n",
    "    expt = 0\n",
    "    for item in sub:\n",
    "        expt += eval(item[0])(item[1], item[2])\n",
    "    return expt\n",
    "\n",
    "\n",
    "def square_of_l2_norm(lda, muu):\n",
    "        def five(downbdd, upbdd):\n",
    "            return muu ** 2 / 4 / (w + alpha * (1 - w)) ** 2 * second_moment(downbdd, upbdd) + \\\n",
    "                   lda * muu / (w + alpha * (1 - w)) * first_moment(downbdd, upbdd) / 2 + \\\n",
    "                   lda ** 2 / 4 * zero_moment(downbdd, upbdd)\n",
    "\n",
    "        def four(downbdd, upbdd):\n",
    "            return 0\n",
    "\n",
    "        def three(downbdd, upbdd):\n",
    "            return muu ** 2 / 4 * second_moment(downbdd, upbdd) + lda * muu * first_moment(downbdd, upbdd) / 2 + \\\n",
    "                   lda ** 2 / 4 * zero_moment(downbdd, upbdd)\n",
    "\n",
    "        def two(downbdd, upbdd):\n",
    "            return w ** 2 * x0 ** 2 * zero_moment(downbdd, upbdd)\n",
    "\n",
    "        def one(downbdd, upbdd):\n",
    "            return w ** 2 * x0 ** 2 * zero_moment(downbdd, upbdd)\n",
    "\n",
    "        sub = subsituation(lda, muu)\n",
    "        expt = 0\n",
    "        for item in sub:\n",
    "            expt += eval(item[0])(item[1], item[2])\n",
    "        return expt"
   ]
  },
  {
   "cell_type": "code",
   "execution_count": 4,
   "metadata": {},
   "outputs": [],
   "source": [
    "def subsituation(lda, muu):\n",
    "    if muu > 0:\n",
    "        return [['one', (2 * a ** 2 * (b - 1) * x0 - lda * a) / muu, 'infty'],\n",
    "                ['two', 0, (2 * a ** 2 * (b - 1) * x0 - lda * a) / muu]]\n",
    "    elif muu < 0:\n",
    "        return [['one', 0, (2 * a ** 2 * (b - 1) * x0 - lda * a) / muu],\n",
    "                ['two', (2 * a ** 2 * (b - 1) * x0 - lda * a) / muu, 'infty']]\n",
    "\n",
    "\n",
    "def expectation(lda, muu):\n",
    "    if muu == 0:\n",
    "        return a * (max(x0 + lda / 2 / a, b * x0) - x0)\n",
    "\n",
    "    def one(downbdd, upbdd):\n",
    "        return (x0 + lda / 2 / a) * zero_moment(downbdd, upbdd) + muu / 2 / a ** 2 * first_moment(downbdd, upbdd)\n",
    "\n",
    "    def two(downbdd, upbdd):\n",
    "        return b * x0 * zero_moment(downbdd, upbdd)\n",
    "\n",
    "    sub = subsituation(lda, muu)\n",
    "    expt = 0\n",
    "    for item in sub:\n",
    "        expt += eval(item[0])(item[1], item[2])\n",
    "        \n",
    "        # print(eval(item[0])(item[1], item[2]), b * x0 * zero_moment(item[1], item[2]))\n",
    "        # print('item1=', item[1], 'item2=', item[2])\n",
    "        # print('expt=', expt)\n",
    "        \n",
    "    return a * (expt - x0)\n",
    "\n",
    "\n",
    "def expectation2(lda, muu):\n",
    "    if muu == 0:\n",
    "        return max(x0 + lda / 2 / a, b * x0) * first_moment(0, 'infty')\n",
    "\n",
    "    def one(downbdd, upbdd):\n",
    "        return (x0 + lda / 2 / a) * first_moment(downbdd, upbdd) + muu / 2 / a ** 2 * second_moment(downbdd, upbdd)\n",
    "\n",
    "    def two(downbdd, upbdd):\n",
    "        return b * x0 * zero_moment(downbdd, upbdd)\n",
    "\n",
    "    sub = subsituation(lda, muu)\n",
    "    expt = 0\n",
    "    for item in sub:\n",
    "        expt += eval(item[0])(item[1], item[2])\n",
    "    return expt\n",
    "\n",
    "\n",
    "def square_of_l2_norm(lda, muu):\n",
    "    if muu == 0:\n",
    "        return a ** 2 * (max(x0 + lda / 2 / a, b * x0) - x0) ** 2\n",
    "\n",
    "    def one(downbdd, upbdd):\n",
    "        return (lda / 2 / a) ** 2 * zero_moment(downbdd, upbdd) + lda / a * muu / 2 / a ** 2 * first_moment(downbdd, upbdd) + \\\n",
    "                muu ** 2 / 4 / a ** 4 * second_moment(downbdd, upbdd)\n",
    "\n",
    "    def two(downbdd, upbdd):\n",
    "        return (b - 1) ** 2 * x0 ** 2 * zero_moment(downbdd, upbdd)\n",
    "\n",
    "    sub = subsituation(lda, muu)\n",
    "    expt = 0\n",
    "    for item in sub:\n",
    "        expt += eval(item[0])(item[1], item[2])\n",
    "    return a ** 2 * expt"
   ]
  },
  {
   "cell_type": "code",
   "execution_count": 19,
   "metadata": {},
   "outputs": [],
   "source": [
    "def mv(z):\n",
    "    def constraint(x):\n",
    "        return expectation(x[0], x[1]) - z, expectation2(x[0], x[1]) - x0\n",
    "\n",
    "    sol = root(constraint, [0, 0])\n",
    "    lda, muu = sol.x\n",
    "    success = sol.success\n",
    "    \n",
    "    print('lda=', lda, 'muu=', muu)\n",
    "    print('expectation=', expectation(lda, muu), 'expectation2=', expectation2(lda, muu))\n",
    "    print('w=', w, 'sigma=', sigma, 'z=', z)\n",
    "    print('success=', success)\n",
    "\n",
    "    return square_of_l2_norm(lda, muu) - z ** 2"
   ]
  },
  {
   "cell_type": "code",
   "execution_count": 25,
   "metadata": {
    "collapsed": false
   },
   "outputs": [
    {
     "name": "stdout",
     "output_type": "stream",
     "text": [
      "lda= 0.10663057511783293 muu= 0.00015180560687329822\nexpectation= 0.05343977200724583 expectation2= 1.0389041885356303\nw= 0.4 sigma= 0.4 z= 0.12180325663420564\nsuccess= False\n"
     ]
    },
    {
     "data": {
      "text/plain": [
       "-0.011980221754668018"
      ]
     },
     "execution_count": 25,
     "metadata": {},
     "output_type": "execute_result"
    }
   ],
   "source": [
    "# theta = 0.5\n",
    "# z0 = a * (x0 / math.exp(-r + theta ** 2) - x0)\n",
    "mv(z0)"
   ]
  },
  {
   "cell_type": "code",
   "execution_count": 10,
   "metadata": {
    "collapsed": true
   },
   "outputs": [
    {
     "name": "stdout",
     "output_type": "stream",
     "text": [
      "lda= -0.9810706913466151 muu= 0.6796989821696761\nexpectation= -0.09999999999999978 expectation2= 1.0\nw= 0.5 sigma= 0.4 z= -0.1\nsuccess= True\nlda= -0.8140931412923201 muu= 0.5704893148454145\nexpectation= -0.07755102040743223 expectation2= 1.0000000000004168\nw= 0.5 sigma= 0.4 z= -0.07755102040816327\nsuccess= True\nlda= -0.6471402679274912 muu= 0.4612417939545862\nexpectation= -0.055102040816362725 expectation2= 0.9999999999999784\nw= 0.5 sigma= 0.4 z= -0.05510204081632653\nsuccess= True\nlda= -0.48024352719188546 muu= 0.3519346790230536\nexpectation= -0.032653061224566245 expectation2= 0.9999999999999514\nw= 0.5 sigma= 0.4 z= -0.0326530612244898\nsuccess= True\nlda= -0.3135027349699256 muu= 0.24253638929391505\nexpectation= -0.010204081632943316 expectation2= 0.9999999999997988\nw= 0.5 sigma= 0.4 z= -0.010204081632653059\nsuccess= True\nlda= -0.14725949255098697 muu= 0.13307173654477591\nexpectation= 0.0122448979591838 expectation2= 1.0\nw= 0.5 sigma= 0.4 z= 0.012244897959183682\nsuccess= True\nlda= 0.06739807107275785 muu= 2.119420379736849e-05\nexpectation= 0.03371454365197963 expectation2= 1.0005717219921848\nw= 0.5 sigma= 0.4 z= 0.03469387755102041\nsuccess= False\n"
     ]
    },
    {
     "name": "stdout",
     "output_type": "stream",
     "text": [
      "lda= 0.07451341228674797 muu= 0.004514425689546621\nexpectation= 0.04055997887461912 expectation2= 1.0113160258803595\nw= 0.5 sigma= 0.4 z= 0.05714285714285716\nsuccess= False\nlda= 0.0936814594826831 muu= 0.0006030927389812997\nexpectation= 0.04728202170981981 expectation2= 1.0205208592612416\nw= 0.5 sigma= 0.4 z= 0.07959183673469389\nsuccess= False\nlda= 0.10654393444553426 muu= 0.0011161987057874503\nexpectation= 0.05408870649394762 expectation2= 1.0305649268689783\nw= 0.5 sigma= 0.4 z= 0.10204081632653061\nsuccess= False\nlda= 0.12349764880154687 muu= 8.827633588025377e-05\nexpectation= 0.06181341751475529 expectation2= 1.0417032998991005\nw= 0.5 sigma= 0.4 z= 0.12448979591836737\nsuccess= False\nlda= 0.13315985004717257 muu= 7.289908581208249e-05\nexpectation= 0.06663326637392755 expectation2= 1.0487543244801734\nw= 0.5 sigma= 0.4 z= 0.1469387755102041\nsuccess= False\n"
     ]
    },
    {
     "name": "stdout",
     "output_type": "stream",
     "text": [
      "lda= 0.15007998374193304 muu= 0.003623280663227187\nexpectation= 0.0776912004710328 expectation2= 1.0655108801503368\nw= 0.5 sigma= 0.4 z= 0.16938775510204082\nsuccess= False\nlda= 0.16215364381713832 muu= 0.00010986105903333605\nexpectation= 0.0811572088869994 expectation2= 1.0700150721922737\nw= 0.5 sigma= 0.4 z= 0.19183673469387755\nsuccess= False\nlda= 0.17629117374974995 muu= 4.232940455076655e-05\nexpectation= 0.0881765599326675 expectation2= 1.080276481402886\nw= 0.5 sigma= 0.4 z= 0.21428571428571433\nsuccess= False\n"
     ]
    },
    {
     "name": "stdout",
     "output_type": "stream",
     "text": [
      "lda= 0.18790224752648454 muu= 0.00043881954158119874\nexpectation= 0.09427221457862531 expectation2= 1.0892611511943822\nw= 0.5 sigma= 0.4 z= 0.23673469387755106\nsuccess= False\nlda= 0.20283405207802144 muu= 0.0011219008302227244\nexpectation= 0.10223793763984121 expectation2= 1.101028872561765\nw= 0.5 sigma= 0.4 z= 0.25918367346938775\nsuccess= False\nlda= 0.21538735796746467 muu= 0.0005391988360447101\nexpectation= 0.10808821882873408 expectation2= 1.109496134544232\nw= 0.5 sigma= 0.4 z= 0.28163265306122454\nsuccess= False\n"
     ]
    },
    {
     "name": "stdout",
     "output_type": "stream",
     "text": [
      "lda= 0.22581936551092321 muu= 0.0028807458409075516\nexpectation= 0.11501756753113801 expectation2= 1.1200153442068335\nw= 0.5 sigma= 0.4 z= 0.3040816326530612\nsuccess= False\nlda= 0.23904784560292522 muu= 0.005341632613228899\nexpectation= 0.12343247519882874 expectation2= 1.1327278607378217\nw= 0.5 sigma= 0.4 z= 0.326530612244898\nsuccess= False\nlda="
     ]
    },
    {
     "name": "stdout",
     "output_type": "stream",
     "text": [
      " 0.26651386663756127 muu= 0.000437933679742486\nexpectation= 0.1335773759358198 expectation2= 1.1467813556831143\nw= 0.5 sigma= 0.4 z= 0.34897959183673477\nsuccess= False\nlda= 0.28406665746268217 muu= 0.0001923480678009954\nexpectation= 0.1421740726866012 expectation2= 1.1593223110308084\nw= 0.5 sigma= 0.4 z= 0.37142857142857144\nsuccess= False\nlda= 0.27074439534275974 muu= 0.011372639355519725\nexpectation= 0.14369372781692233 expectation2= 1.1633539083500732\nw= 0.5 sigma= 0.4 z= 0.3938775510204082\nsuccess= False\n"
     ]
    },
    {
     "name": "stdout",
     "output_type": "stream",
     "text": [
      "lda= 0.28444354442659153 muu= 0.011335558121720588\nexpectation= 0.15051616946600244 expectation2= 1.173332077850269\nw= 0.5 sigma= 0.4 z= 0.416326530612245\nsuccess= False\nlda= 0.29820020080313875 muu= 0.011288169120467964\nexpectation= 0.15735982241397667 expectation2= 1.1833396219848187\nw= 0.5 sigma= 0.4 z= 0.4387755102040817\nsuccess= False\nlda= 0.315353070363807 muu= 0.003509195096552349\nexpectation= 0.16024426566817598 expectation2= 1.1863030568056114\nw= 0.5 sigma= 0.4 z= 0.46122448979591846\nsuccess= False\n"
     ]
    },
    {
     "name": "stdout",
     "output_type": "stream",
     "text": [
      "lda= 0.32799581691220886 muu= 0.003950624108874182\nexpectation= 0.16688863914649138 expectation2= 1.1960980040890894\nw= 0.5 sigma= 0.4 z= 0.48367346938775513\nsuccess= False\nlda= 15.451110625369907 muu= -12.263809834219906\nexpectation= 0.5061224489795269 expectation2= 0.9999999999991094\nw= 0.5 sigma= 0.4 z= 0.5061224489795919\nsuccess= True\nlda="
     ]
    },
    {
     "name": "stdout",
     "output_type": "stream",
     "text": [
      " 0.36540714334195823 muu= 0.0009536390154366576\nexpectation= 0.18340136358777545 expectation2= 1.2197786501098393\nw= 0.5 sigma= 0.4 z= 0.5285714285714287\nsuccess= False\nlda= 0.37670483852327263 muu= 0.0022165456933603135\nexpectation= 0.18997429886492453 expectation2= 1.229601873445746\nw= 0.5 sigma= 0.4 z= 0.5510204081632654\nsuccess= False\nlda= 0.3917308286370074 muu= 0.0013475304479582946\nexpectation= 0.19685142248197182 expectation2= 1.2395255546838202\nw= 0.5 sigma= 0.4 z= 0.5734693877551021\nsuccess= False\nlda= 0.4067428630556461 muu= 0.00048747512970266854\nexpectation= 0.20372812436404267 expectation2= 1.2494500674307054\nw= 0.5 sigma= 0.4 z= 0.5959183673469388\nsuccess= False\n"
     ]
    },
    {
     "name": "stdout",
     "output_type": "stream",
     "text": [
      "lda= 0.4187558746212412 muu= 9.680684094590802e-05\nexpectation= 0.20944877232262116 expectation2= 1.2577586692944702\nw= 0.5 sigma= 0.4 z= 0.6183673469387756\nsuccess= False\nlda= 21.820122225777332 muu= -18.336181920263215\nexpectation= 0.6408163265306701 expectation2= 1.0000000000003746\nw= 0.5 sigma= 0.4 z= 0.6408163265306124\nsuccess= True\nlda= 23.11018235014698 muu= -19.606035460504003\nexpectation= 0.6632653061227187 expectation2= 1.0000000000016056\nw= 0.5 sigma= 0.4 z= 0.663265306122449\nsuccess= True\nlda= 24.478217095429493 muu= -20.965529130346056\nexpectation= 0.6857142857155286 expectation2= 1.00000000000693\nw= 0.5 sigma= 0.4 z= 0.6857142857142858\nsuccess= True\nlda= 25.92990219228028 muu= -22.421925564464573\nexpectation= 0.7081632653062941 expectation2= 1.0000000000009004\nw= 0.5 sigma= 0.4 z= 0.7081632653061225\nsuccess= True\nlda="
     ]
    },
    {
     "name": "stdout",
     "output_type": "stream",
     "text": [
      " 27.47140450497057 muu= -23.983170334407586\nexpectation= 0.7306122448979598 expectation2= 0.9999999999999999\nw= 0.5 sigma= 0.4 z= 0.7306122448979593\nsuccess= True\nlda= 29.10943036853819 muu= -25.657964358594484\nexpectation= 0.7530612244898462 expectation2= 1.0000000000000824\nw= 0.5 sigma= 0.4 z= 0.7530612244897961\nsuccess= True\nlda= 30.851279168924286 muu= -27.455844749140272\nexpectation= 0.7755102040816475 expectation2= 1.000000000000023\nw= 0.5 sigma= 0.4 z= 0.7755102040816327\nsuccess= True\nlda= 32.70490277781965 muu= -29.38727515376095\nexpectation= 0.7979591836734599 expectation2= 0.9999999999999816\nw= 0.5 sigma= 0.4 z= 0.7979591836734695\nsuccess= True\nlda= 34.67897152322689 muu= -31.46374678429301\nexpectation= 0.8204081632649555 expectation2= 0.9999999999995115\nw= 0.5 sigma= 0.4 z= 0.8204081632653062\nsuccess= True\nlda="
     ]
    },
    {
     "name": "stdout",
     "output_type": "stream",
     "text": [
      " 36.78294745953837 muu= -33.69789148033588\nexpectation= 0.8428571428571268 expectation2= 0.9999999999999795\nw= 0.5 sigma= 0.4 z= 0.842857142857143\nsuccess= True\nlda= 39.02716579278011 muu= -36.103608333476885\nexpectation= 0.8653061224490577 expectation2= 1.0000000000001157\nw= 0.5 sigma= 0.4 z= 0.8653061224489798\nsuccess= True\nlda= 41.42292539397981 muu= -38.69620556166149\nexpectation= 0.8877551026492018 expectation2= 1.0000000010119952\nw= 0.5 sigma= 0.4 z= 0.8877551020408164\nsuccess= True\nlda= 43.98258964956813 muu= -41.492559834780764\nexpectation= 0.9102040816324555 expectation2= 0.9999999999996779\nw= 0.5 sigma= 0.4 z= 0.9102040816326532\nsuccess= True\nlda= 46.71969832088186 muu= -44.511294510476716\nexpectation= 0.9326530612281163 expectation2= 1.0000000000060274\nw= 0.5 sigma= 0.4 z= 0.93265306122449\nsuccess= True\nlda= 49.6490926378839 muu= -47.77298052515608\nexpectation= 0.9551020408162278 expectation2= 0.9999999999998497\nw= 0.5 sigma= 0.4 z= 0.9551020408163265\nsuccess= True\nlda="
     ]
    },
    {
     "name": "stdout",
     "output_type": "stream",
     "text": [
      " 52.78705424763399 muu= -51.30036151492261\nexpectation= 0.9775510203526302 expectation2= 0.9999999999075022\nw= 0.5 sigma= 0.4 z= 0.9775510204081633\nsuccess= True\nlda= 56.1514602017767 muu= -55.11860707442964\nexpectation= 1.00000000001432 expectation2= 1.0000000000238527\nw= 0.5 sigma= 0.4 z= 1.0\nsuccess= True\n"
     ]
    },
    {
     "data": {
      "text/plain": [
       "[<matplotlib.lines.Line2D at 0x19eace0d240>]"
      ]
     },
     "execution_count": 10,
     "metadata": {},
     "output_type": "execute_result"
    }
   ],
   "source": [
    "fig, ax = plt.subplots()\n",
    "ax.plot(np.linspace(-0.1, 1), [mv(z) for z in np.linspace(-0.1, 1)])"
   ]
  },
  {
   "cell_type": "code",
   "execution_count": 205,
   "metadata": {
    "collapsed": true
   },
   "outputs": [
    {
     "data": {
      "text/plain": [
       "[<matplotlib.lines.Line2D at 0x139c0b47320>]"
      ]
     },
     "execution_count": 205,
     "metadata": {},
     "output_type": "execute_result"
    }
   ],
   "source": [
    "fig, ax = plt.subplots()\n",
    "ax.plot([expectation(-1, i) for i in np.linspace(-50, 50, 1000)], \n",
    "        [square_of_l2_norm(-1, i) for i in np.linspace(-50, 50, 1000)])"
   ]
  },
  {
   "cell_type": "code",
   "execution_count": 199,
   "metadata": {
    "collapsed": true
   },
   "outputs": [
    {
     "name": "stdout",
     "output_type": "stream",
     "text": [
      "0.08778620108835647 0.008005014210152062\n0.08799988844059171 0.008080297286365124\n0.08824661471456968 0.008167595377899664\n0.08853279983946856 0.00826931675405993\n0.08886639800579177 0.008388463125911001\n0.0892573410978595 0.00852880647863002\n0.0897181350994178 0.00869512880754962\n0.09026467182040983 0.008893551206309311\n0.09091734807980728 0.009131991800174032\n0.09170263084806636 0.00942081256666951\n0.09265528051274971 0.009773748154584351\n0.09382156409367903 0.0102092643021462\n0.09526398951947214 0.010752585635160615\n0.09706843330383494 0.011438793237073079\n0.09935513674996536 0.012317681719083892\n0.10229614903510446 0.013461606963804173\n0.10614389814551321 0.014978614385234948\n0.11127977036635438 0.017035316340939723\n0.11830044128309615 0.019898752295074477\n0.12817966461705613 0.024017680467628533\n0.1425918898340697 0.030192661576569142\n0.16461480775104056 0.03996803888319999\n0.20042415357514023 0.05666249441711901\n0.26397935414108464 0.08865697683851861\n0.3916532129922192 0.16387623864114148\n0.6186521120075936 0.4069209634526017\n0.8559563360227809 0.9503759990278541\n1.0932605600379692 1.799981846163176\n1.3305647840531567 2.95573850485856\n1.5678690080683437 4.4176459751140085\n1.8051732320835319 6.18570425692953\n2.042477456098719 8.259913350305112\n2.2797816801139064 10.640273255240759\n2.517085904129094 13.32678397173647\n2.7543901281442813 16.319445499792245\n2.9916943521594694 19.618257839408102\n3.2289985761746562 23.22322099058401\n3.466302800189844 27.13433495331998\n3.703607024205032 31.35159972761604\n3.9409112482202193 35.87501531347215\n4.178215472235406 40.70458171088832\n4.415519696250594 45.840298919864544\n4.652823920265781 51.282166940400856\n4.890128144280968 57.03018577249721\n5.127432368296158 63.0843554161537\n5.364736592311345 69.4446758713702\n5.602040816326531 76.11114713814673\n5.839345040341719 83.08376921648338\n6.076649264356908 90.36254210638009\n6.313953488372094 97.94746580783682\n"
     ]
    }
   ],
   "source": [
    "# theta = 0.5\n",
    "# z0 = a * (x0 / math.exp(-r + theta ** 2) - x0)\n",
    "for i in np.linspace(-10, 10):\n",
    "    print(expectation(1, i), square_of_l2_norm(1, i))"
   ]
  },
  {
   "cell_type": "code",
   "execution_count": 21,
   "metadata": {
    "collapsed": true
   },
   "outputs": [
    {
     "data": {
      "text/plain": [
       "[<matplotlib.lines.Line2D at 0x186078bdfd0>]"
      ]
     },
     "execution_count": 21,
     "metadata": {},
     "output_type": "execute_result"
    }
   ],
   "source": [
    "fig, ax = plt.subplots()\n",
    "points = np.array([[i, mv(i)[0]] for i in np.linspace(z0-0.5, z0+0.5) if mv(i)[1]]).T.reshape(2, -1)\n",
    "ax.plot(points[0], points[1])"
   ]
  },
  {
   "cell_type": "code",
   "execution_count": 25,
   "metadata": {},
   "outputs": [
    {
     "data": {
      "text/plain": [
       "0.9006038283857801"
      ]
     },
     "execution_count": 25,
     "metadata": {},
     "output_type": "execute_result"
    }
   ],
   "source": [
    "math.exp(-0.2)*1.1"
   ]
  },
  {
   "cell_type": "code",
   "execution_count": 76,
   "metadata": {
    "collapsed": true
   },
   "outputs": [],
   "source": [
    "fig, ax = plt.subplots(3, 3, sharex=True, sharey=True)\n",
    "for i in enumerate([0.3, 0.4, 0.8]):\n",
    "    for j in enumerate([10, 2, 1.25]):\n",
    "        w = i[1]\n",
    "        # theta = j[1]\n",
    "        sigma = j[1]\n",
    "        theta = (mu - r)/sigma\n",
    "        a = w + alpha * (1 - w)\n",
    "        z0 = a * (x0 / math.exp(-r + theta ** 2) - x0)\n",
    "        points = np.array([[z, mv(z)[0]] for z in np.linspace(z0-0.5, z0+0.5) if mv(z)[1]]).T.reshape(2, -1)\n",
    "        ax[i[0], j[0]].plot(points[0], points[1])\n",
    "        ax[i[0], j[0]].axvline(ymax=0.8, x=z0, c='C1', linestyle='dashed')\n",
    "        ax[i[0], j[0]].text(0.5, 0.95, r'$w={}, \\theta={}$'.format(w, theta), fontsize=20, \n",
    "            transform=ax[i[0], j[0]].transAxes, horizontalalignment='center', verticalalignment='top')\n",
    "        ax[i[0], j[0]].xaxis.set_tick_params(which='both', labelbottom=True)\n",
    "for i in range(3):\n",
    "    ax[i, 0].set_ylabel('variance', fontsize=20)\n",
    "    ax[2, i].set_xlabel('mean', fontsize=20)"
   ]
  },
  {
   "cell_type": "code",
   "execution_count": 86,
   "metadata": {},
   "outputs": [],
   "source": [
    "fig, ax = plt.subplots(3, 3, sharex=True)\n",
    "for i in enumerate([0.5, 1, 2]):\n",
    "    for j in enumerate([10, 2, 1.25]):\n",
    "        x0 = i[1]\n",
    "        sigma = j[1]\n",
    "        theta = (mu - r)/sigma\n",
    "        a = w + alpha * (1 - w)\n",
    "        z0 = a * (x0 / math.exp(-r + theta ** 2) - x0)\n",
    "        points = np.array([[z, mv(z)[0]] for z in np.linspace(z0-0.5, z0+0.5) if mv(z)[1]]).T.reshape(2, -1)\n",
    "        ax[i[0], j[0]].plot(points[0], points[1])\n",
    "        ax[i[0], j[0]].axvline(ymax=0.8, x=z0, c='C1', linestyle='dashed')\n",
    "        ax[i[0], j[0]].text(0.5, 0.95, r'$x_0={}, \\sigma={}$'.format(x0, sigma), fontsize=20, \n",
    "            transform=ax[i[0], j[0]].transAxes, horizontalalignment='center', verticalalignment='top')\n",
    "        ax[i[0], j[0]].xaxis.set_tick_params(which='both', labelbottom=True)\n",
    "for i in range(3):\n",
    "    ax[i, 0].set_ylabel('variance', fontsize=20)\n",
    "    ax[2, i].set_xlabel('mean', fontsize=20)"
   ]
  },
  {
   "cell_type": "code",
   "execution_count": 61,
   "metadata": {
    "collapsed": false
   },
   "outputs": [
    {
     "data": {
      "text/plain": [
       "<mpl_toolkits.mplot3d.art3d.Poly3DCollection at 0x18609e17470>"
      ]
     },
     "execution_count": 61,
     "metadata": {},
     "output_type": "execute_result"
    }
   ],
   "source": [
    "fig, ax = plt.subplots(subplot_kw=dict(projection='3d'))\n",
    "xx, yy = np.meshgrid(np.linspace(-5, 5, 20), np.linspace(-10, 10, 50))\n",
    "zz = np.zeros((2, 50, 20))\n",
    "for i in range(50):\n",
    "    for j in range(20):\n",
    "        zz[0, i, j] = expectation(xx[i, j], yy[i, j])\n",
    "        zz[1, i, j] = expectation2(xx[i, j], yy[i, j]) - x0\n",
    "ax.plot_surface(xx, yy, zz[0])\n",
    "ax.plot_surface(xx, yy, zz[1])"
   ]
  },
  {
   "cell_type": "markdown",
   "metadata": {},
   "source": [
    "some notes here:\n",
    "1, mv >= 0\n",
    "2, make sure that the functions are continuous in lda, muu\n",
    "3, expectation >= a * (b - 1) * x0, the same as expectation2"
   ]
  }
 ],
 "metadata": {
  "kernelspec": {
   "display_name": "Python 2",
   "language": "python",
   "name": "python2"
  },
  "language_info": {
   "codemirror_mode": {
    "name": "ipython",
    "version": 2
   },
   "file_extension": ".py",
   "mimetype": "text/x-python",
   "name": "python",
   "nbconvert_exporter": "python",
   "pygments_lexer": "ipython2",
   "version": "2.7.6"
  }
 },
 "nbformat": 4,
 "nbformat_minor": 0
}
