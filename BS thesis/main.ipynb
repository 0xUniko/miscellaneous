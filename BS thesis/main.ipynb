{
 "cells": [
  {
   "cell_type": "code",
   "execution_count": 1,
   "metadata": {
    "collapsed": true
   },
   "outputs": [
    {
     "name": "stdout",
     "output_type": "stream",
     "text": [
      "Using matplotlib backend: TkAgg\n"
     ]
    }
   ],
   "source": [
    "%matplotlib\n",
    "import numpy as np\n",
    "import matplotlib.pyplot as plt\n",
    "from case1 import *"
   ]
  },
  {
   "cell_type": "code",
   "execution_count": 12,
   "metadata": {},
   "outputs": [],
   "source": [
    "parameters.attribution(w=0.5, sigma=0.1)"
   ]
  },
  {
   "cell_type": "code",
   "execution_count": 14,
   "metadata": {
    "collapsed": false
   },
   "outputs": [
    {
     "name": "stdout",
     "output_type": "stream",
     "text": [
      "-3.855283799189029\n-2.329325034068608\n-1.185236195541\n"
     ]
    },
    {
     "name": "stdout",
     "output_type": "stream",
     "text": [
      "-0.42301710495239275\n-0.04266756899733068\n-0.04418736971153399\n-0.4275763014733548\n"
     ]
    },
    {
     "name": "stdout",
     "output_type": "stream",
     "text": [
      "-1.1928341467128456\n-2.339960702233802\n-3.8689558371368156\n"
     ]
    }
   ],
   "source": [
    "for i in np.linspace(-2, 2, 10):\n",
    "    print(mv(i))"
   ]
  },
  {
   "cell_type": "code",
   "execution_count": 22,
   "metadata": {},
   "outputs": [],
   "source": [
    "fig, ax = plt.subplots(3, 3, sharex=True, sharey=True, figsize=(16, 10))\n",
    "for i in enumerate([0.3, 0.4, 0.8]):\n",
    "    for j in enumerate([0.1, 1, 1.5]):\n",
    "        parameters.attribution(w=i[1], sigma=j[1])\n",
    "        ax[i[0], j[0]].plot(np.linspace(-2, 2, 30), [mv(zz) for zz in np.linspace(-2, 2, 30)])\n",
    "        ax[i[0], j[0]].text(0.5, 0.95, r'$w={}, \\sigma={}$'.format(i[1], j[1]), fontsize=20,\n",
    "                            transform=ax[i[0], j[0]].transAxes, horizontalalignment='center', verticalalignment='top')\n",
    "for i in range(3):\n",
    "    ax[i, 0].set_ylabel('variance', fontsize=20)\n",
    "    ax[2, i].set_xlabel('mean', fontsize=20)\n",
    "fig.savefig('figures/case1/sigma_w.png')"
   ]
  },
  {
   "cell_type": "code",
   "execution_count": 15,
   "metadata": {},
   "outputs": [],
   "source": [
    "\n",
    "a, b = var[0], var[1]"
   ]
  },
  {
   "cell_type": "code",
   "execution_count": 25,
   "metadata": {},
   "outputs": [
    {
     "name": "stdout",
     "output_type": "stream",
     "text": [
      "(0, 1)\n(1, 2)\n"
     ]
    }
   ],
   "source": [
    "for i in enumerate([1,2]):\n",
    "    print(i)"
   ]
  },
  {
   "cell_type": "code",
   "execution_count": null,
   "metadata": {},
   "outputs": [],
   "source": []
  }
 ],
 "metadata": {
  "kernelspec": {
   "display_name": "Python 2",
   "language": "python",
   "name": "python2"
  },
  "language_info": {
   "codemirror_mode": {
    "name": "ipython",
    "version": 2
   },
   "file_extension": ".py",
   "mimetype": "text/x-python",
   "name": "python",
   "nbconvert_exporter": "python",
   "pygments_lexer": "ipython2",
   "version": "2.7.6"
  }
 },
 "nbformat": 4,
 "nbformat_minor": 0
}
